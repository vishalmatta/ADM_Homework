{
 "cells": [
  {
   "cell_type": "markdown",
   "metadata": {},
   "source": [
    "# Say \"Hello, World!\" With Python\n",
    "\n",
    "my_string = \"Hello, World!\"\n",
    "print(my_string)\n"
   ]
  },
  {
   "cell_type": "markdown",
   "metadata": {},
   "source": [
    "# Python If-Else\n",
    "#!/bin/python3\n",
    "\n",
    "import math\n",
    "import os\n",
    "import random\n",
    "import re\n",
    "import sys\n",
    "\n",
    "\n",
    "\n",
    "if __name__ == '__main__':\n",
    "    n = int(input().strip())\n",
    "\n",
    "\n",
    "if n % 2 != 0:\n",
    "   print (\"Weird\")\n",
    "\n",
    "else:\n",
    "    if n >=2 and n <=5:\n",
    "        print (\"Not Weird\")\n",
    "    elif n >=6 and n <=20:\n",
    "        print (\"Weird\")\n",
    "    elif n > 20:\n",
    "        print (\"Not Weird\")\n"
   ]
  },
  {
   "cell_type": "markdown",
   "metadata": {},
   "source": [
    "# Arithmetic Operators\n",
    "\n",
    "if __name__ == '__main__':\n",
    "    a = int(input())\n",
    "    b = int(input())\n",
    "   \n",
    "print (a + b)\n",
    "print (a - b)\n",
    "print (a * b)\n"
   ]
  },
  {
   "cell_type": "markdown",
   "metadata": {},
   "source": [
    "# Python: Division\n",
    "if __name__ == '__main__':\n",
    "    a = int(input())\n",
    "    b = int(input())\n",
    "print (a//b)\n",
    "print (float(a/b))\n"
   ]
  },
  {
   "cell_type": "markdown",
   "metadata": {},
   "source": [
    "# Loops\n",
    "if __name__ == '__main__':\n",
    "    n = int(input())\n",
    "\n",
    "for i in range (0,n):\n",
    "       print(i ** 2)"
   ]
  },
  {
   "cell_type": "markdown",
   "metadata": {},
   "source": [
    "# Write a function\n",
    "\n",
    "def is_leap(year):\n",
    "    if year % 4 == 0:\n",
    "        if year % 100 == 0:\n",
    "            if year % 400 == 0:\n",
    "                return True\n",
    "            else:\n",
    "                return False\n",
    "        else:\n",
    "            return True\n",
    "    else:\n",
    "         return False"
   ]
  },
  {
   "cell_type": "markdown",
   "metadata": {},
   "source": [
    "# Print Function\n",
    "\n",
    "if __name__ == '__main__':\n",
    "    n = int(input())\n",
    "    for i in range(1,n+1):\n",
    "        print(i,end=\"\")"
   ]
  },
  {
   "cell_type": "markdown",
   "metadata": {},
   "source": [
    "# Nested Lists\n",
    "\n",
    "marksheet=[]\n",
    "scoresheet=[]\n",
    "if __name__ == '__main__':\n",
    "    for _ in range(int(input())):\n",
    "        name = input()\n",
    "        score = float(input())\n",
    "        marksheet+=[[name, score]]\n",
    "        scoresheet+=[score]\n",
    "    x=sorted(set(scoresheet))[1]\n",
    "    \n",
    "    for n, s in sorted(marksheet):\n",
    "        if s==x:\n",
    "            print(n)"
   ]
  },
  {
   "cell_type": "markdown",
   "metadata": {},
   "source": [
    "# List Comprehensions\n",
    "if __name__ == '__main__':\n",
    "    x = int(input())\n",
    "    y = int(input())\n",
    "    z = int(input())\n",
    "    n = int(input())\n",
    "    a = [[i, j, k] for i in range (x+1) for j in range (y+1) for k in range (z+1) if i+j+k!=n]\n",
    "    print(a)\n"
   ]
  },
  {
   "cell_type": "markdown",
   "metadata": {},
   "source": [
    "# String Split and Join\n",
    "\n",
    "def split_and_join(line):\n",
    "\n",
    "    a = line.split(\" \")\n",
    "    a =(\"-\").join(a)\n",
    "    return (a)\n"
   ]
  },
  {
   "cell_type": "markdown",
   "metadata": {},
   "source": [
    "# What's Your Name?\n",
    "\n",
    "def print_full_name(a, b):\n",
    "  \n",
    "   print(\"Hello \" + first_name + \" \" + last_name + \"! \" + \n",
    "    \"You just delved into python.\") "
   ]
  },
  {
   "cell_type": "markdown",
   "metadata": {},
   "source": [
    "# Mutations\n",
    "\n",
    "def mutate_string(string, position, character):\n",
    "   str1 = string[:position] + character + string[position +1 :]\n",
    "   return str1\n"
   ]
  },
  {
   "cell_type": "markdown",
   "metadata": {},
   "source": [
    "# Find a string\n",
    "def count_substring(string, sub_string):\n",
    "   count = 0  \n",
    "   len_s = len(string)\n",
    "   len_sub_s = len(sub_string)\n",
    "   for i in range(0, len_s-len_sub_s+1):\n",
    "       #print(string[i: len_sub_s+1])\n",
    "       if string[i : len_sub_s+i] == sub_string:\n",
    "          count = count+1\n",
    "   return count\n"
   ]
  },
  {
   "cell_type": "markdown",
   "metadata": {},
   "source": [
    "# No Idea!\n",
    "\n",
    "input()\n",
    "list1 = list (map(int,input().split()))\n",
    "A = set(map(int,input().split()))\n",
    "B = set(map(int,input().split()))\n",
    "happiness = 0\n",
    "for elen in list1:\n",
    "    if elen  in A:\n",
    "        happiness += 1\n",
    "    if elen  in B:\n",
    "        happiness -= 1\n",
    "    else: pass\n",
    "\n",
    "print(happiness)\n"
   ]
  },
  {
   "cell_type": "markdown",
   "metadata": {},
   "source": [
    "# Set .add()\n",
    "\n",
    "print(len(set(input() for i in range(int(input())))))\n",
    "\n"
   ]
  },
  {
   "cell_type": "markdown",
   "metadata": {},
   "source": [
    "# Set .discard(), .remove() & .pop()\n",
    "\n",
    "n = int(input())\n",
    "s = set(map(int, input().split()))\n",
    "for i in range(int(input())):\n",
    "    string = input().split()\n",
    "    if string[0] == 'pop':\n",
    "       s.pop()\n",
    "    elif string[0]== 'remove':\n",
    "       s.remove(int(string[1]))\n",
    "    elif string[0] == 'discard':\n",
    "       s.discard(int(string[1]))\n",
    "print(sum(s))"
   ]
  },
  {
   "cell_type": "markdown",
   "metadata": {},
   "source": [
    "# Set .symmetric_difference() Operation\n",
    "\n",
    "if __name__ == '__main__':\n",
    "    input()\n",
    "    A = set(input().split())\n",
    "    input()\n",
    "    B= set(input().split())\n",
    "    print(len(A.symmetric_difference(B)))\n"
   ]
  },
  {
   "cell_type": "markdown",
   "metadata": {},
   "source": [
    "# Set Mutations\n",
    "\n",
    "if __name__== \"__main__\":\n",
    "    input()\n",
    "    A=set(map(int, input().split()))\n",
    "    n=int(input())\n",
    "    for i in range(n):\n",
    "        cmd = (input().split())[0]\n",
    "        B = set(map(int, input().split()))\n",
    "        if cmd == 'intersection_update':\n",
    "            A.intersection_update(B)\n",
    "        elif cmd == 'difference_update':\n",
    "            A.difference_update(B)\n",
    "        elif cmd == 'symmetric_difference_update':\n",
    "            A.symmetric_difference_update(B)\n",
    "        elif cmd== 'update':\n",
    "            A.update(B)\n",
    "print(sum(A))"
   ]
  },
  {
   "cell_type": "markdown",
   "metadata": {},
   "source": [
    "# The Captain's Room\n",
    "\n",
    "if __name__ == \"__main__\" :\n",
    "    k = int(input())\n",
    "    arr = list(map(int, input().split()))\n",
    "    s = set(arr)\n",
    "    sum_tot= sum (s) * k - sum(arr)\n",
    "    print(sum_tot // (k-1)"
   ]
  },
  {
   "cell_type": "markdown",
   "metadata": {},
   "source": [
    "# Set .union() Operation\n",
    "\n",
    "a,A = input(), set(input().split())\n",
    "b,B = input(), set(input().split())\n",
    "print(len(A.union(B)))\n"
   ]
  },
  {
   "cell_type": "markdown",
   "metadata": {},
   "source": [
    "# Set .intersection() Operation\n",
    "\n",
    "a,A = input(), set(input().split())\n",
    "b,B = input(), set(input().split())\n",
    "print(len(A.intersection(B)))"
   ]
  },
  {
   "cell_type": "markdown",
   "metadata": {},
   "source": [
    "# Set .difference() Operation\n",
    "\n",
    "a,A = input(), set(input().split())\n",
    "b,B = input(), set(input().split())\n",
    "print(len(A.difference(B))"
   ]
  },
  {
   "cell_type": "markdown",
   "metadata": {},
   "source": [
    "# Check Subset\n",
    "\n",
    "for i in range(int(input())):\n",
    "    _, a = input(), set(map(int, input().split()))\n",
    "    _, b = input(), set(map(int, input().split()))\n",
    "    print(a.issubset(b))\n"
   ]
  },
  {
   "cell_type": "markdown",
   "metadata": {},
   "source": [
    "# Check Strict Superset\n",
    "\n",
    "a = set(map(str, input().split(' ')))\n",
    "is_strict_superset = []\n",
    "for i in range(int(input())):\n",
    "     is_strict_superset.append(a.issuperset(set(map(str, input().split(' ')))))\n",
    "print(all(is_strict_superset))\n",
    "\n"
   ]
  },
  {
   "cell_type": "markdown",
   "metadata": {},
   "source": [
    "# Tuples\n",
    "\n",
    "n = input()\n",
    "str = input()\n",
    "\n",
    "lst = str.split()\n",
    "lst = map(int, lst)\n",
    "\n",
    "t = tuple(lst)\n",
    "print(hash(t))"
   ]
  },
  {
   "cell_type": "markdown",
   "metadata": {},
   "source": [
    "# Find the Runner-Up Score!\n",
    "\n",
    "n = int(input())\n",
    "\n",
    "arr = list(map(int, input().split()))\n",
    "listnew=[]\n",
    "\n",
    "for i in arr:\n",
    "\n",
    "    if i not in listnew:\n",
    "\n",
    "\n",
    "        listnew.append(i)\n",
    "\n",
    "listnew.sort(reverse=True)\n",
    "\n",
    "print(listnew[1])\n"
   ]
  },
  {
   "cell_type": "markdown",
   "metadata": {},
   "source": [
    "# Finding the percentage\n",
    "\n",
    "marks = {}\n",
    "for _ in range(int(input())):\n",
    "    line = input().split()\n",
    "    marks[line[0]] = list(map(float, line[1:]))\n",
    "print('%.2f' %(sum(marks[input()])/3))"
   ]
  },
  {
   "cell_type": "markdown",
   "metadata": {},
   "source": [
    "# Calendar Module\n",
    "\n",
    "\n",
    "import calendar\n",
    "#calendar.Calendar(calendar.SUNDAY)\n",
    "user_input = input().split()\n",
    "month = int(user_input[0])\n",
    "day = int(user_input[1])\n",
    "year = int(user_input[2])\n",
    "c = calendar.weekday(year, month, day)\n",
    "\n",
    "if c == 0:\n",
    "    print(\"MONDAY\")\n",
    "elif c == 1:\n",
    "    print(\"TUESDAY\")\n",
    "elif c == 2:\n",
    "    print(\"WEDNESDAY\")\n",
    "elif c==3:\n",
    "    print(\"THURSDAY\")\n",
    "elif c==4:\n",
    "    print(\"FRIDAY\")\n",
    "elif c== 5:\n",
    "    print(\"SATURDAY\")\n",
    "elif c==6:\n",
    "    print(\"SUNDAY\")\n"
   ]
  },
  {
   "cell_type": "markdown",
   "metadata": {},
   "source": [
    "# Polar Coordinates\n",
    "\n",
    "\n",
    "import cmath\n",
    "\n",
    "r = complex(input().strip())\n",
    "\n",
    "print(cmath.polar(r)[0])\n",
    "print(cmath.polar(r)[1])"
   ]
  },
  {
   "cell_type": "markdown",
   "metadata": {},
   "source": [
    "# itertools.product()\n",
    "\n",
    "from itertools import product\n",
    "\n",
    "A = list(map(int, input().split()))\n",
    "B = list(map(int, input().split()))\n",
    "\n",
    "print(*product(A, B))\n",
    "\n",
    "\n"
   ]
  },
  {
   "cell_type": "markdown",
   "metadata": {},
   "source": [
    "# itertools.permutations()\n",
    "\n",
    "\n",
    "import itertools\n",
    "if __name__=='__main__':\n",
    "    word, size = input().split(\" \")\n",
    "    size=int(size)\n",
    "    for i in list(sorted(itertools.permutations(word, size))):\n",
    "        print(*i, sep='')\n",
    "\n"
   ]
  },
  {
   "cell_type": "markdown",
   "metadata": {},
   "source": [
    "# itertools.combinations()\n",
    "\n",
    "from itertools import *\n",
    "s,k = input().split(' ')\n",
    "for l in range(1,int(k)+1):\n",
    "    for c in combinations (sorted(s),l):\n",
    "        print(''.join(c)"
   ]
  },
  {
   "cell_type": "markdown",
   "metadata": {},
   "source": [
    "# collections.Counter()\n",
    "\n",
    "n=int(input())\n",
    "size=list(map(int,input().split()))\n",
    "n2=int(input())\n",
    "p=[]\n",
    "for _ in range(n2):\n",
    "       p.append(list(map(int,input().split())))\n",
    "i=0 \n",
    "count=0\n",
    "while(i<n2):\n",
    "    if p[i][0] in size:\n",
    "        count+=p[i][1]\n",
    "        size.remove(p[i][0])\n",
    "    i+=1\n",
    "print(count)    \n",
    "\n"
   ]
  },
  {
   "cell_type": "markdown",
   "metadata": {},
   "source": [
    "# DefaultDict Tutorial\n",
    "\n",
    "from collections import defaultdict\n",
    "n, m = map(int, input().split())\n",
    "d = defaultdict(lambda: -1)\n",
    "for i in range(1, n+1): \n",
    "    word = input()\n",
    "    d[word] = d[word] + ' ' + str(i) if word in d else str(i)\n",
    "for _ in range(m):\n",
    "    print(d[input()]"
   ]
  },
  {
   "cell_type": "markdown",
   "metadata": {},
   "source": [
    "# Collections.namedtuple()\n",
    "\n",
    "\n",
    "from collections import namedtuple\n",
    "N = int(input())\n",
    "fields = input().split()\n",
    "total = 0\n",
    "for i in range(N):\n",
    "    students = namedtuple('student',fields)\n",
    "    field1, field2, field3,field4 = input().split()\n",
    "    student = students(field1,field2,field3,field4)\n",
    "    total += int(student.MARKS)\n",
    "print('{:.2f}'.format(total/N))"
   ]
  },
  {
   "cell_type": "markdown",
   "metadata": {},
   "source": [
    "# Detect Floating Point Number\n",
    "\n",
    "for _ in range(int(input())):\n",
    "    s = input()\n",
    "    try:\n",
    "        int(s)\n",
    "        print(False)\n",
    "    except:\n",
    "        try:\n",
    "            float(s)\n",
    "            print(True)\n",
    "        except:\n",
    "            print(False"
   ]
  },
  {
   "cell_type": "code",
   "execution_count": 1,
   "metadata": {},
   "outputs": [
    {
     "data": {
      "text/plain": [
       "'C:\\\\Users\\\\Shravanthi'"
      ]
     },
     "execution_count": 1,
     "metadata": {},
     "output_type": "execute_result"
    }
   ],
   "source": [
    "import os\n",
    "os.getcwd()"
   ]
  },
  {
   "cell_type": "code",
   "execution_count": null,
   "metadata": {
    "collapsed": true
   },
   "outputs": [],
   "source": []
  }
 ],
 "metadata": {
  "kernelspec": {
   "display_name": "Python 3",
   "language": "python",
   "name": "python3"
  },
  "language_info": {
   "codemirror_mode": {
    "name": "ipython",
    "version": 3
   },
   "file_extension": ".py",
   "mimetype": "text/x-python",
   "name": "python",
   "nbconvert_exporter": "python",
   "pygments_lexer": "ipython3",
   "version": "3.6.3"
  }
 },
 "nbformat": 4,
 "nbformat_minor": 2
}
